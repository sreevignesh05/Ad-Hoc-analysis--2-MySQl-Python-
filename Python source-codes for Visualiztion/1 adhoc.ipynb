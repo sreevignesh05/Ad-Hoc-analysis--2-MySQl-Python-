{
 "cells": [
  {
   "cell_type": "code",
   "execution_count": 3,
   "id": "ed2a1e72-9b57-47a7-8477-46076f475301",
   "metadata": {},
   "outputs": [
    {
     "name": "stdout",
     "output_type": "stream",
     "text": [
      "        market\n",
      "0        India\n",
      "1    Indonesia\n",
      "2        Japan\n",
      "3  Philiphines\n",
      "4  South Korea\n",
      "5    Australia\n",
      "6   Newzealand\n",
      "7   Bangladesh\n"
     ]
    }
   ],
   "source": [
    "from sqlalchemy import create_engine\n",
    "import pandas as pd\n",
    "\n",
    "\n",
    "username = 'root'\n",
    "password = '****'\n",
    "host = 'localhost'  \n",
    "port = '3306'  \n",
    "database = '****'\n",
    "\n",
    "\n",
    "engine = create_engine(f'mysql+pymysql://{username}:{password}@{host}:{port}/{database}')\n",
    "\n",
    "\n",
    "query = \"\"\"\n",
    "    SELECT DISTINCT\n",
    "        market\n",
    "    FROM\n",
    "        dim_customer\n",
    "    WHERE\n",
    "        customer LIKE '%%Atliq Exclusive%%'\n",
    "            AND region LIKE '%%APAC%%';\n",
    "\"\"\"\n",
    "\n",
    "try:\n",
    "    \n",
    "    df = pd.read_sql(query, engine)\n",
    "    \n",
    "    \n",
    "    print(df)\n",
    "except Exception as e:\n",
    "    print(f\"An error occurred while executing the query: {e}\")\n",
    "finally:\n",
    "  \n",
    "    engine.dispose()\n"
   ]
  }
 ],
 "metadata": {
  "kernelspec": {
   "display_name": "Python 3 (ipykernel)",
   "language": "python",
   "name": "python3"
  },
  "language_info": {
   "codemirror_mode": {
    "name": "ipython",
    "version": 3
   },
   "file_extension": ".py",
   "mimetype": "text/x-python",
   "name": "python",
   "nbconvert_exporter": "python",
   "pygments_lexer": "ipython3",
   "version": "3.8.10"
  }
 },
 "nbformat": 4,
 "nbformat_minor": 5
}
